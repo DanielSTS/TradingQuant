{
 "cells": [
  {
   "cell_type": "code",
   "execution_count": 50,
   "metadata": {},
   "outputs": [
    {
     "name": "stdout",
     "output_type": "stream",
     "text": [
      "(1.9951469169885632, -1.9937736475808723)\n"
     ]
    }
   ],
   "source": [
    "from datetime import datetime\n",
    "import MetaTrader5 as mt5\n",
    "import pandas as pd\n",
    "import statsmodels.stats.api as sms\n",
    "\n",
    "# estabelecemos a conexão ao MetaTrader 5\n",
    "if not mt5.initialize(path=\"C:\\Program Files\\MetaTrader 5\\\\terminal64.exe\"):\n",
    "    print(\"initialize() failed, error code =\", mt5.last_error())\n",
    "    quit()\n",
    "    \n",
    "\n",
    "coef = 0.00746350377330673\n",
    "intercept = 0.27450383730253236\n",
    "media =1.4506914188435379e-16\n",
    "dp =0.004943714117496676\n",
    "\n",
    "\n",
    "def intervalPrediction(dependente, independente, coef, intercept, m, d):\n",
    "    df = pd.DataFrame()\n",
    "    dep = mt5.copy_rates_from_pos(dependente, mt5.TIMEFRAME_M30, 1,2400)\n",
    "    indep = mt5.copy_rates_from_pos(independente, mt5.TIMEFRAME_M30, 1, 2400)\n",
    "    df[dependente] = [y[4] for y in dep]\n",
    "    df[independente] = [y[4] for y in indep]\n",
    "    df['previsao'] = df[independente] * coef + intercept\n",
    "    df['residuo'] = df[dependente] - df['previsao']\n",
    "    media = m\n",
    "    dp = d\n",
    "    df['z'] = (df['residuo'] - media)/dp\n",
    "    media = df['z'].mean()\n",
    "    dp = df['z'].std()\n",
    "    q5 = media + 2 * dp\n",
    "    q95 = media - 2 * dp\n",
    "    return q5, q95\n",
    "print(intervalPrediction(\"GBPUSDmicro\", \"GBPJPYmicro\", coef, intercept, media, dp))\n"
   ]
  },
  {
   "cell_type": "code",
   "execution_count": 46,
   "metadata": {},
   "outputs": [
    {
     "name": "stdout",
     "output_type": "stream",
     "text": [
      "       GBPUSDmicro  USDJPYmicro    previsao     residuo             z\n",
      "count   300.000000   300.000000  300.000000  300.000000  3.000000e+02\n",
      "mean      1.301392   105.693817   -0.111961  105.805778 -1.408207e-13\n",
      "std       0.017164     0.532167    0.000232    0.532070  1.000000e+00\n",
      "min       1.269910   104.111000   -0.112387  104.223193 -2.974395e+00\n",
      "25%       1.289520   105.389250   -0.112122  105.500983 -5.728477e-01\n",
      "50%       1.297825   105.656000   -0.112009  105.768131 -7.075579e-02\n",
      "75%       1.312215   106.038250   -0.111815  106.150240  6.474006e-01\n",
      "max       1.346720   106.946000   -0.111347  107.057899  2.353305e+00\n",
      "1.9599999999998596 -1.9600000000001412\n"
     ]
    },
    {
     "data": {
      "text/plain": [
       "<matplotlib.axes._subplots.AxesSubplot at 0x236923e0b50>"
      ]
     },
     "execution_count": 46,
     "metadata": {},
     "output_type": "execute_result"
    },
    {
     "data": {
      "image/png": "[encoded data removed]",
      "text/plain": [
       "<Figure size 432x288 with 1 Axes>"
      ]
     },
     "metadata": {
      "needs_background": "light"
     },
     "output_type": "display_data"
    }
   ],
   "source": [
    "import pandas as pd\n",
    "import statsmodels.stats.api as sms\n",
    "import matplotlib.pyplot as plt\n",
    "import MetaTrader5 as mt5\n",
    "import numpy as np\n",
    "from sklearn.linear_model import LinearRegression\n",
    "from arch.unitroot import ADF\n",
    "import seaborn as sns\n",
    "if not mt5.initialize(path=\"C:\\Program Files\\MetaTrader 5\\\\terminal64.exe\"):\n",
    "    print(\"initialize() failed, error code =\", mt5.last_error())\n",
    "    quit()\n",
    "symbols = ['EURUSD', 'GBPUSD', 'USDJPY', 'USDCHF', 'AUDUSD', 'NZDUSD', 'USDCAD', 'AUDCAD', 'AUDCHF', 'AUDJPY','AUDNZD', \n",
    "           'CADCHF', 'CADJPY', 'CHFJPY', 'EURAUD', 'EURCAD', 'EURCHF', 'EURGBP', 'EURJPY', 'EURNZD','GBPAUD', 'GBPCAD', \n",
    "           'GBPCHF', 'GBPJPY', 'GBPNZD', 'NZDJPY', 'NZDCAD', 'NZDCHF']\n",
    "micro = True\n",
    "if micro:\n",
    "    for i in range(len(symbols)):\n",
    "        symbols[i] += \"micro\"\n",
    "dependente = symbols[1]\n",
    "independente = symbols[2]\n",
    "df = pd.DataFrame()\n",
    "dep = mt5.copy_rates_from_pos(dependente, mt5.TIMEFRAME_H4, 1, 300)\n",
    "indep = mt5.copy_rates_from_pos(independente, mt5.TIMEFRAME_H4, 1, 300)\n",
    "df[dependente] = [y[4] for y in dep]\n",
    "df[independente] = [y[4] for y in indep]\n",
    "x = df[independente].values.reshape(-1,1)\n",
    "y = df[dependente].values.reshape(-1,1)\n",
    "reg = LinearRegression().fit(x, y)\n",
    "resultado = reg.predict(x)\n",
    "#print(np.mean(resultado))\n",
    "coef = reg.coef_[0][0]\n",
    "intercept = reg.intercept_[0]\n",
    "df['previsao'] = df[dependente] * coef + intercept\n",
    "df['residuo'] = df[independente] - df['previsao']\n",
    "media = df['residuo'].mean()\n",
    "dp = df['residuo'].std()\n",
    "df['z'] = (df['residuo'] - media)/dp\n",
    "media = df['z'].mean()\n",
    "dp = df['z'].std()\n",
    "q5 = media + 1.96 * dp\n",
    "q95 = media - 1.96 * dp\n",
    "print(df.describe())\n",
    "#df['z'].plot()\n",
    "\n",
    "print(q5, q95)\n",
    "\n",
    "sns.distplot(df['z'], bins = 15)"
   ]
  },
  {
   "cell_type": "code",
   "execution_count": 37,
   "metadata": {},
   "outputs": [
    {
     "data": {
      "text/plain": [
       "array([-4, -3, -2,  1,  2,  3])"
      ]
     },
     "execution_count": 37,
     "metadata": {},
     "output_type": "execute_result"
    }
   ],
   "source": [
    "a = np.array([1,2,3])\n",
    "a = a -5\n",
    "a = np.append(a, [1,2,3])\n",
    "a"
   ]
  },
  {
   "cell_type": "code",
   "execution_count": 30,
   "metadata": {},
   "outputs": [
    {
     "name": "stdout",
     "output_type": "stream",
     "text": [
      "         mean   mean_se  mean_ci_lower  mean_ci_upper  obs_ci_lower  \\\n",
      "0    1.312052  0.000340       1.311384       1.312721      1.302317   \n",
      "1    1.314950  0.000370       1.314223       1.315678      1.305210   \n",
      "2    1.313449  0.000354       1.312753       1.314145      1.303711   \n",
      "3    1.314420  0.000364       1.313704       1.315136      1.304681   \n",
      "4    1.313994  0.000359       1.313287       1.314702      1.304256   \n",
      "..        ...       ...            ...            ...           ...   \n",
      "295  1.295561  0.000302       1.294966       1.296156      1.285830   \n",
      "296  1.294261  0.000311       1.293650       1.294873      1.284529   \n",
      "297  1.293918  0.000313       1.293302       1.294534      1.284185   \n",
      "298  1.293455  0.000317       1.292832       1.294078      1.283722   \n",
      "299  1.293701  0.000315       1.293082       1.294320      1.283968   \n",
      "\n",
      "     obs_ci_upper  \n",
      "0        1.321788  \n",
      "1        1.324691  \n",
      "2        1.323187  \n",
      "3        1.324159  \n",
      "4        1.323733  \n",
      "..            ...  \n",
      "295      1.305292  \n",
      "296      1.303993  \n",
      "297      1.303650  \n",
      "298      1.303188  \n",
      "299      1.303434  \n",
      "\n",
      "[300 rows x 6 columns]\n"
     ]
    }
   ],
   "source": [
    "import statsmodels.api as sm\n",
    "from statsmodels.sandbox.regression.predstd import wls_prediction_std\n",
    "from statsmodels.regression.linear_model import OLSResults\n",
    "x = sm.add_constant(x)\n",
    "model = sm.OLS(y, x)\n",
    "results = model.fit()\n",
    "#print(results.summary())\n",
    "predictions = results.get_prediction(x)\n",
    "frame = predictions.summary_frame()\n",
    "print(frame)"
   ]
  },
  {
   "cell_type": "code",
   "execution_count": 4,
   "metadata": {},
   "outputs": [
    {
     "data": {
      "text/plain": [
       "0    1\n",
       "1    2\n",
       "2    3\n",
       "Name: 0, dtype: int64"
      ]
     },
     "execution_count": 4,
     "metadata": {},
     "output_type": "execute_result"
    }
   ],
   "source": [
    "import pandas as pd\n",
    "\n",
    "\n",
    "a = pd.DataFrame([1,2,3])\n",
    "a.iloc[:,0]"
   ]
  },
  {
   "cell_type": "code",
   "execution_count": 6,
   "metadata": {},
   "outputs": [
    {
     "data": {
      "text/plain": [
       "[[3, 4, 5], [6, 7, 8]]"
      ]
     },
     "execution_count": 6,
     "metadata": {},
     "output_type": "execute_result"
    }
   ],
   "source": [
    "matriz = [[1,2,3], [3,4,5], [6,7,8]]\n",
    "\n",
    "matriz_eliminada = matriz[1:]\n",
    "matriz_eliminada"
   ]
  },
  {
   "cell_type": "code",
   "execution_count": null,
   "metadata": {},
   "outputs": [],
   "source": []
  }
 ],
 "metadata": {
  "kernelspec": {
   "display_name": "Python 3",
   "language": "python",
   "name": "python3"
  },
  "language_info": {
   "codemirror_mode": {
    "name": "ipython",
    "version": 3
   },
   "file_extension": ".py",
   "mimetype": "text/x-python",
   "name": "python",
   "nbconvert_exporter": "python",
   "pygments_lexer": "ipython3",
   "version": "3.8.1"
  }
 },
 "nbformat": 4,
 "nbformat_minor": 4
}
