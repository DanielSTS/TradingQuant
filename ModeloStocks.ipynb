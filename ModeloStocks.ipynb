{
 "cells": [
  {
   "cell_type": "code",
   "execution_count": 1,
   "metadata": {},
   "outputs": [
    {
     "name": "stderr",
     "output_type": "stream",
     "text": [
      "C:\\Users\\juini\\anaconda3\\envs\\py38\\lib\\site-packages\\pandas_datareader\\compat\\__init__.py:7: FutureWarning: pandas.util.testing is deprecated. Use the functions in the public API at pandas.testing instead.\n",
      "  from pandas.util.testing import assert_frame_equal\n"
     ]
    }
   ],
   "source": [
    "import numpy as np\n",
    "import pandas as pd\n",
    "import pandas_datareader as web\n",
    "from datetime import datetime\n",
    "import ta\n",
    "import numpy as np\n",
    "import pandas as pd\n",
    "import ta\n",
    "from sklearn.model_selection import train_test_split\n",
    "import matplotlib.pyplot as plt\n",
    "import seaborn as sns\n",
    "%matplotlib inline\n",
    "from sklearn.linear_model import LogisticRegression\n",
    "from sklearn.ensemble import RandomForestClassifier, VotingClassifier\n",
    "from sklearn.metrics import classification_report\n",
    "from sklearn.linear_model import SGDClassifier\n",
    "from sklearn.linear_model import Perceptron\n",
    "from sklearn.neighbors import KNeighborsClassifier\n",
    "from sklearn.tree import DecisionTreeClassifier\n",
    "from sklearn.svm import SVC\n",
    "from sklearn.cluster import KMeans\n",
    "\n"
   ]
  },
  {
   "cell_type": "code",
   "execution_count": 2,
   "metadata": {},
   "outputs": [
    {
     "data": {
      "text/html": [
       "<div>\n",
       "<style scoped>\n",
       "    .dataframe tbody tr th:only-of-type {\n",
       "        vertical-align: middle;\n",
       "    }\n",
       "\n",
       "    .dataframe tbody tr th {\n",
       "        vertical-align: top;\n",
       "    }\n",
       "\n",
       "    .dataframe thead th {\n",
       "        text-align: right;\n",
       "    }\n",
       "</style>\n",
       "<table border=\"1\" class=\"dataframe\">\n",
       "  <thead>\n",
       "    <tr style=\"text-align: right;\">\n",
       "      <th></th>\n",
       "      <th>High</th>\n",
       "      <th>Low</th>\n",
       "      <th>Open</th>\n",
       "      <th>Close</th>\n",
       "      <th>Volume</th>\n",
       "      <th>Adj Close</th>\n",
       "    </tr>\n",
       "    <tr>\n",
       "      <th>Date</th>\n",
       "      <th></th>\n",
       "      <th></th>\n",
       "      <th></th>\n",
       "      <th></th>\n",
       "      <th></th>\n",
       "      <th></th>\n",
       "    </tr>\n",
       "  </thead>\n",
       "  <tbody>\n",
       "    <tr>\n",
       "      <th>2015-09-21</th>\n",
       "      <td>47391.0</td>\n",
       "      <td>46425.0</td>\n",
       "      <td>47263.0</td>\n",
       "      <td>46590.0</td>\n",
       "      <td>2601200.0</td>\n",
       "      <td>46590.0</td>\n",
       "    </tr>\n",
       "    <tr>\n",
       "      <th>2015-09-22</th>\n",
       "      <td>46585.0</td>\n",
       "      <td>45276.0</td>\n",
       "      <td>46585.0</td>\n",
       "      <td>46265.0</td>\n",
       "      <td>4193100.0</td>\n",
       "      <td>46265.0</td>\n",
       "    </tr>\n",
       "    <tr>\n",
       "      <th>2015-09-23</th>\n",
       "      <td>46480.0</td>\n",
       "      <td>45340.0</td>\n",
       "      <td>46263.0</td>\n",
       "      <td>45340.0</td>\n",
       "      <td>3962000.0</td>\n",
       "      <td>45340.0</td>\n",
       "    </tr>\n",
       "    <tr>\n",
       "      <th>2015-09-24</th>\n",
       "      <td>45572.0</td>\n",
       "      <td>44183.0</td>\n",
       "      <td>45340.0</td>\n",
       "      <td>45292.0</td>\n",
       "      <td>4331700.0</td>\n",
       "      <td>45292.0</td>\n",
       "    </tr>\n",
       "    <tr>\n",
       "      <th>2015-09-25</th>\n",
       "      <td>45969.0</td>\n",
       "      <td>44697.0</td>\n",
       "      <td>45300.0</td>\n",
       "      <td>44831.0</td>\n",
       "      <td>3135300.0</td>\n",
       "      <td>44831.0</td>\n",
       "    </tr>\n",
       "  </tbody>\n",
       "</table>\n",
       "</div>"
      ],
      "text/plain": [
       "               High      Low     Open    Close     Volume  Adj Close\n",
       "Date                                                                \n",
       "2015-09-21  47391.0  46425.0  47263.0  46590.0  2601200.0    46590.0\n",
       "2015-09-22  46585.0  45276.0  46585.0  46265.0  4193100.0    46265.0\n",
       "2015-09-23  46480.0  45340.0  46263.0  45340.0  3962000.0    45340.0\n",
       "2015-09-24  45572.0  44183.0  45340.0  45292.0  4331700.0    45292.0\n",
       "2015-09-25  45969.0  44697.0  45300.0  44831.0  3135300.0    44831.0"
      ]
     },
     "execution_count": 2,
     "metadata": {},
     "output_type": "execute_result"
    }
   ],
   "source": [
    "symbols = ['^BVSP', 'BBAS3.SA', 'BBDC4.SA', 'BMGB4.SA', \n",
    "                 'BPAC11.SA', 'BRML3.SA', 'ENBR3.SA', 'EVEN3.SA',\n",
    "                 'ITSA4.SA', 'JHSF3.SA', 'LCAM3.SA', 'MGLU3.SA', \n",
    "                'MRFG3.SA', 'OIBR3.SA', 'PETR4.SA', 'PTBL3.SA', 'RENT3.SA', \n",
    "                'SLCE3.SA', 'TAEE4.SA', 'USIM5.SA', 'VALE3.SA', \n",
    "                'VVAR3.SA', 'WEGE3.SA']\n",
    "\n",
    "df = web.DataReader(symbols[0], \"yahoo\")\n",
    "df.head()\n"
   ]
  },
  {
   "cell_type": "code",
   "execution_count": 4,
   "metadata": {},
   "outputs": [],
   "source": [
    "def alvo(x):\n",
    "    if x>0:\n",
    "        return 1\n",
    "    return 0"
   ]
  },
  {
   "cell_type": "code",
   "execution_count": 5,
   "metadata": {},
   "outputs": [
    {
     "data": {
      "text/html": [
       "<div>\n",
       "<style scoped>\n",
       "    .dataframe tbody tr th:only-of-type {\n",
       "        vertical-align: middle;\n",
       "    }\n",
       "\n",
       "    .dataframe tbody tr th {\n",
       "        vertical-align: top;\n",
       "    }\n",
       "\n",
       "    .dataframe thead th {\n",
       "        text-align: right;\n",
       "    }\n",
       "</style>\n",
       "<table border=\"1\" class=\"dataframe\">\n",
       "  <thead>\n",
       "    <tr style=\"text-align: right;\">\n",
       "      <th></th>\n",
       "      <th>High</th>\n",
       "      <th>Low</th>\n",
       "      <th>Open</th>\n",
       "      <th>Close</th>\n",
       "      <th>Volume</th>\n",
       "      <th>Adj Close</th>\n",
       "      <th>v1</th>\n",
       "      <th>v2</th>\n",
       "      <th>v3</th>\n",
       "      <th>v1-</th>\n",
       "      <th>...</th>\n",
       "      <th>v1o</th>\n",
       "      <th>v2o</th>\n",
       "      <th>rsi</th>\n",
       "      <th>rsi-</th>\n",
       "      <th>sma200</th>\n",
       "      <th>sma200-</th>\n",
       "      <th>ema20</th>\n",
       "      <th>ema20-</th>\n",
       "      <th>return</th>\n",
       "      <th>alvo</th>\n",
       "    </tr>\n",
       "    <tr>\n",
       "      <th>Date</th>\n",
       "      <th></th>\n",
       "      <th></th>\n",
       "      <th></th>\n",
       "      <th></th>\n",
       "      <th></th>\n",
       "      <th></th>\n",
       "      <th></th>\n",
       "      <th></th>\n",
       "      <th></th>\n",
       "      <th></th>\n",
       "      <th></th>\n",
       "      <th></th>\n",
       "      <th></th>\n",
       "      <th></th>\n",
       "      <th></th>\n",
       "      <th></th>\n",
       "      <th></th>\n",
       "      <th></th>\n",
       "      <th></th>\n",
       "      <th></th>\n",
       "      <th></th>\n",
       "    </tr>\n",
       "  </thead>\n",
       "  <tbody>\n",
       "    <tr>\n",
       "      <th>2016-02-23</th>\n",
       "      <td>43601.0</td>\n",
       "      <td>42359.0</td>\n",
       "      <td>43235.0</td>\n",
       "      <td>42521.0</td>\n",
       "      <td>3805300.0</td>\n",
       "      <td>42521.0</td>\n",
       "      <td>1.029321</td>\n",
       "      <td>0.574879</td>\n",
       "      <td>2.259259</td>\n",
       "      <td>1.043352</td>\n",
       "      <td>...</td>\n",
       "      <td>1.030368</td>\n",
       "      <td>0.533663</td>\n",
       "      <td>59.614729</td>\n",
       "      <td>0</td>\n",
       "      <td>47723.295</td>\n",
       "      <td>0.890990</td>\n",
       "      <td>40843.476142</td>\n",
       "      <td>1</td>\n",
       "      <td>-0.016514</td>\n",
       "      <td>0.0</td>\n",
       "    </tr>\n",
       "    <tr>\n",
       "      <th>2016-02-24</th>\n",
       "      <td>42521.0</td>\n",
       "      <td>41211.0</td>\n",
       "      <td>42521.0</td>\n",
       "      <td>42085.0</td>\n",
       "      <td>3522700.0</td>\n",
       "      <td>42085.0</td>\n",
       "      <td>1.031788</td>\n",
       "      <td>0.332824</td>\n",
       "      <td>0.000000</td>\n",
       "      <td>1.029321</td>\n",
       "      <td>...</td>\n",
       "      <td>1.034820</td>\n",
       "      <td>0.615542</td>\n",
       "      <td>56.761318</td>\n",
       "      <td>0</td>\n",
       "      <td>47652.575</td>\n",
       "      <td>0.883163</td>\n",
       "      <td>40961.716509</td>\n",
       "      <td>1</td>\n",
       "      <td>-0.010254</td>\n",
       "      <td>0.0</td>\n",
       "    </tr>\n",
       "    <tr>\n",
       "      <th>2016-02-25</th>\n",
       "      <td>42327.0</td>\n",
       "      <td>41442.0</td>\n",
       "      <td>42084.0</td>\n",
       "      <td>41888.0</td>\n",
       "      <td>4046700.0</td>\n",
       "      <td>41888.0</td>\n",
       "      <td>1.021355</td>\n",
       "      <td>0.221469</td>\n",
       "      <td>0.544843</td>\n",
       "      <td>1.031788</td>\n",
       "      <td>...</td>\n",
       "      <td>1.027488</td>\n",
       "      <td>0.376391</td>\n",
       "      <td>55.469419</td>\n",
       "      <td>0</td>\n",
       "      <td>47575.245</td>\n",
       "      <td>0.880458</td>\n",
       "      <td>41049.933985</td>\n",
       "      <td>1</td>\n",
       "      <td>-0.004681</td>\n",
       "      <td>0.0</td>\n",
       "    </tr>\n",
       "    <tr>\n",
       "      <th>2016-02-26</th>\n",
       "      <td>42495.0</td>\n",
       "      <td>41417.0</td>\n",
       "      <td>41889.0</td>\n",
       "      <td>41593.0</td>\n",
       "      <td>3274600.0</td>\n",
       "      <td>41593.0</td>\n",
       "      <td>1.026028</td>\n",
       "      <td>0.274583</td>\n",
       "      <td>3.443182</td>\n",
       "      <td>1.021355</td>\n",
       "      <td>...</td>\n",
       "      <td>1.026390</td>\n",
       "      <td>0.276292</td>\n",
       "      <td>53.505536</td>\n",
       "      <td>0</td>\n",
       "      <td>47492.950</td>\n",
       "      <td>0.875772</td>\n",
       "      <td>41101.654558</td>\n",
       "      <td>1</td>\n",
       "      <td>-0.007043</td>\n",
       "      <td>1.0</td>\n",
       "    </tr>\n",
       "    <tr>\n",
       "      <th>2016-02-29</th>\n",
       "      <td>43053.0</td>\n",
       "      <td>41599.0</td>\n",
       "      <td>41599.0</td>\n",
       "      <td>42794.0</td>\n",
       "      <td>4473500.0</td>\n",
       "      <td>42794.0</td>\n",
       "      <td>1.034953</td>\n",
       "      <td>0.821871</td>\n",
       "      <td>inf</td>\n",
       "      <td>1.026028</td>\n",
       "      <td>...</td>\n",
       "      <td>1.027445</td>\n",
       "      <td>0.439307</td>\n",
       "      <td>59.752966</td>\n",
       "      <td>0</td>\n",
       "      <td>47421.405</td>\n",
       "      <td>0.902419</td>\n",
       "      <td>41262.830314</td>\n",
       "      <td>1</td>\n",
       "      <td>0.028875</td>\n",
       "      <td>1.0</td>\n",
       "    </tr>\n",
       "  </tbody>\n",
       "</table>\n",
       "<p>5 rows × 22 columns</p>\n",
       "</div>"
      ],
      "text/plain": [
       "               High      Low     Open    Close     Volume  Adj Close  \\\n",
       "Date                                                                   \n",
       "2016-02-23  43601.0  42359.0  43235.0  42521.0  3805300.0    42521.0   \n",
       "2016-02-24  42521.0  41211.0  42521.0  42085.0  3522700.0    42085.0   \n",
       "2016-02-25  42327.0  41442.0  42084.0  41888.0  4046700.0    41888.0   \n",
       "2016-02-26  42495.0  41417.0  41889.0  41593.0  3274600.0    41593.0   \n",
       "2016-02-29  43053.0  41599.0  41599.0  42794.0  4473500.0    42794.0   \n",
       "\n",
       "                  v1        v2        v3       v1-  ...       v1o       v2o  \\\n",
       "Date                                                ...                       \n",
       "2016-02-23  1.029321  0.574879  2.259259  1.043352  ...  1.030368  0.533663   \n",
       "2016-02-24  1.031788  0.332824  0.000000  1.029321  ...  1.034820  0.615542   \n",
       "2016-02-25  1.021355  0.221469  0.544843  1.031788  ...  1.027488  0.376391   \n",
       "2016-02-26  1.026028  0.274583  3.443182  1.021355  ...  1.026390  0.276292   \n",
       "2016-02-29  1.034953  0.821871       inf  1.026028  ...  1.027445  0.439307   \n",
       "\n",
       "                  rsi  rsi-     sma200   sma200-         ema20  ema20-  \\\n",
       "Date                                                                     \n",
       "2016-02-23  59.614729     0  47723.295  0.890990  40843.476142       1   \n",
       "2016-02-24  56.761318     0  47652.575  0.883163  40961.716509       1   \n",
       "2016-02-25  55.469419     0  47575.245  0.880458  41049.933985       1   \n",
       "2016-02-26  53.505536     0  47492.950  0.875772  41101.654558       1   \n",
       "2016-02-29  59.752966     0  47421.405  0.902419  41262.830314       1   \n",
       "\n",
       "              return  alvo  \n",
       "Date                        \n",
       "2016-02-23 -0.016514   0.0  \n",
       "2016-02-24 -0.010254   0.0  \n",
       "2016-02-25 -0.004681   0.0  \n",
       "2016-02-26 -0.007043   1.0  \n",
       "2016-02-29  0.028875   1.0  \n",
       "\n",
       "[5 rows x 22 columns]"
      ]
     },
     "execution_count": 5,
     "metadata": {},
     "output_type": "execute_result"
    }
   ],
   "source": [
    "df['v1'] = df['High']/df['Low'] # razão da máxima/mínima\n",
    "\n",
    "\n",
    "df['v2'] = abs(df['Close'] - df['Open']) / abs(df['High'] -  df['Low']) #razão do corpo pelo atr\n",
    "\n",
    "\n",
    "cond = [df['Close'] >= df['Open'], df['Close'] < df['Open']]\n",
    "choice = [abs(df['High'] - df['Close']) / abs(df['Low'] -  df['Open']), abs(df['High'] - df['Open']) / abs(df['Low'] -  df['Close'])]\n",
    "\n",
    "df['v3'] = np.select(cond,choice)\n",
    "\n",
    "\n",
    "a = 1\n",
    "\n",
    "df['v1-'] = df['v1'].shift(a)\n",
    "df['v2-'] = df['v2'].shift(a)\n",
    "df['v3-'] = df['v3'].shift(a)\n",
    "\n",
    "\n",
    "df['v1o'] = df['v1'].rolling(3).mean()\n",
    "df['v2o'] = df['v2'].rolling(3).mean()\n",
    "\n",
    "\n",
    "\n",
    "df['rsi'] = ta.momentum.RSIIndicator(close=df['Close'], n = 14, fillna = False).rsi()\n",
    "df['rsi-'] = np.select([df['rsi'] < 30 , df['rsi'] > 70], [1,-1], default=0)\n",
    "\n",
    "df['ema20'] = ta.trend.EMAIndicator(close = df['Close'], n = 20, fillna = False).ema_indicator()\n",
    "df['ema20-'] = [1 if df.loc[i,'Close'] > df.loc[i,'ema20'] else 0 for i in df.index ]\n",
    "\n",
    "\n",
    "df['return'] = df['Close'].pct_change()\n",
    "\n",
    "df['alvo'] = df['return'].map(alvo).shift(-1) \n",
    "\n",
    "df.dropna(inplace=True)\n",
    "\n",
    "df\n"
   ]
  },
  {
   "cell_type": "code",
   "execution_count": 8,
   "metadata": {},
   "outputs": [
    {
     "data": {
      "text/html": [
       "<div>\n",
       "<style scoped>\n",
       "    .dataframe tbody tr th:only-of-type {\n",
       "        vertical-align: middle;\n",
       "    }\n",
       "\n",
       "    .dataframe tbody tr th {\n",
       "        vertical-align: top;\n",
       "    }\n",
       "\n",
       "    .dataframe thead th {\n",
       "        text-align: right;\n",
       "    }\n",
       "</style>\n",
       "<table border=\"1\" class=\"dataframe\">\n",
       "  <thead>\n",
       "    <tr style=\"text-align: right;\">\n",
       "      <th></th>\n",
       "      <th>v1</th>\n",
       "      <th>v2</th>\n",
       "      <th>v1-</th>\n",
       "      <th>v2-</th>\n",
       "      <th>sma200-</th>\n",
       "      <th>ema20-</th>\n",
       "      <th>rsi-</th>\n",
       "    </tr>\n",
       "    <tr>\n",
       "      <th>Date</th>\n",
       "      <th></th>\n",
       "      <th></th>\n",
       "      <th></th>\n",
       "      <th></th>\n",
       "      <th></th>\n",
       "      <th></th>\n",
       "      <th></th>\n",
       "    </tr>\n",
       "  </thead>\n",
       "  <tbody>\n",
       "    <tr>\n",
       "      <th>2016-02-18</th>\n",
       "      <td>1.012505</td>\n",
       "      <td>0.283495</td>\n",
       "      <td>1.036086</td>\n",
       "      <td>0.455345</td>\n",
       "      <td>0.865565</td>\n",
       "      <td>1</td>\n",
       "      <td>0</td>\n",
       "    </tr>\n",
       "    <tr>\n",
       "      <th>2016-02-19</th>\n",
       "      <td>1.018431</td>\n",
       "      <td>0.087186</td>\n",
       "      <td>1.012505</td>\n",
       "      <td>0.283495</td>\n",
       "      <td>0.868189</td>\n",
       "      <td>1</td>\n",
       "      <td>0</td>\n",
       "    </tr>\n",
       "    <tr>\n",
       "      <th>2016-02-22</th>\n",
       "      <td>1.043352</td>\n",
       "      <td>0.938923</td>\n",
       "      <td>1.018431</td>\n",
       "      <td>0.087186</td>\n",
       "      <td>0.904738</td>\n",
       "      <td>1</td>\n",
       "      <td>0</td>\n",
       "    </tr>\n",
       "    <tr>\n",
       "      <th>2016-02-23</th>\n",
       "      <td>1.029321</td>\n",
       "      <td>0.574879</td>\n",
       "      <td>1.043352</td>\n",
       "      <td>0.938923</td>\n",
       "      <td>0.890990</td>\n",
       "      <td>1</td>\n",
       "      <td>0</td>\n",
       "    </tr>\n",
       "    <tr>\n",
       "      <th>2016-02-24</th>\n",
       "      <td>1.031788</td>\n",
       "      <td>0.332824</td>\n",
       "      <td>1.029321</td>\n",
       "      <td>0.574879</td>\n",
       "      <td>0.883163</td>\n",
       "      <td>1</td>\n",
       "      <td>0</td>\n",
       "    </tr>\n",
       "  </tbody>\n",
       "</table>\n",
       "</div>"
      ],
      "text/plain": [
       "                  v1        v2       v1-       v2-   sma200-  ema20-  rsi-\n",
       "Date                                                                      \n",
       "2016-02-18  1.012505  0.283495  1.036086  0.455345  0.865565       1     0\n",
       "2016-02-19  1.018431  0.087186  1.012505  0.283495  0.868189       1     0\n",
       "2016-02-22  1.043352  0.938923  1.018431  0.087186  0.904738       1     0\n",
       "2016-02-23  1.029321  0.574879  1.043352  0.938923  0.890990       1     0\n",
       "2016-02-24  1.031788  0.332824  1.029321  0.574879  0.883163       1     0"
      ]
     },
     "execution_count": 8,
     "metadata": {},
     "output_type": "execute_result"
    }
   ],
   "source": [
    "variaveis = ['v1','v2','v1-','v2-','sma200-','ema20-','rsi-']\n",
    "\n",
    "df[variaveis].head()"
   ]
  },
  {
   "cell_type": "code",
   "execution_count": 13,
   "metadata": {},
   "outputs": [],
   "source": [
    "def ml(variaveis):\n",
    "    X = df[variaveis]\n",
    "    y = df['alvo']\n",
    "    \n",
    "    X_treino, X_teste, y_treino, y_teste = train_test_split(X, y, test_size=0.3, random_state=42)\n",
    "    \n",
    "    clf = VotingClassifier([('Rfor',RandomForestClassifier(n_estimators=10000, n_jobs=-1, random_state=0)),\n",
    "                           ('LogR',LogisticRegression(random_state=0)),\n",
    "                           ('knn',KNeighborsClassifier(n_neighbors = 5))])\n",
    "    clf.fit(X_treino, y_treino)\n",
    "    confidence = clf.score(X_teste,y_teste)\n",
    "    print('Acurácia',confidence)\n",
    "    prediction = clf.predict(X_teste)\n",
    "    return confidence\n",
    "    "
   ]
  },
  {
   "cell_type": "code",
   "execution_count": 14,
   "metadata": {},
   "outputs": [
    {
     "name": "stdout",
     "output_type": "stream",
     "text": [
      "Acurácia 0.49\n"
     ]
    },
    {
     "data": {
      "text/plain": [
       "0.49"
      ]
     },
     "execution_count": 14,
     "metadata": {},
     "output_type": "execute_result"
    }
   ],
   "source": [
    "ml(variaveis)"
   ]
  },
  {
   "cell_type": "code",
   "execution_count": 6,
   "metadata": {},
   "outputs": [
    {
     "data": {
      "text/plain": [
       "<matplotlib.axes._subplots.AxesSubplot at 0x18e7edfe580>"
      ]
     },
     "execution_count": 6,
     "metadata": {},
     "output_type": "execute_result"
    },
    {
     "data": {
      "image/png": "[encoded data removed]",
      "text/plain": [
       "<Figure size 864x432 with 2 Axes>"
      ]
     },
     "metadata": {
      "needs_background": "light"
     },
     "output_type": "display_data"
    }
   ],
   "source": [
    "plt.figure(figsize=(12,6))\n",
    "sns.heatmap(df.corr())"
   ]
  },
  {
   "cell_type": "code",
   "execution_count": 9,
   "metadata": {},
   "outputs": [
    {
     "data": {
      "text/plain": [
       "array([[<matplotlib.axes._subplots.AxesSubplot object at 0x0000018E00120040>]],\n",
       "      dtype=object)"
      ]
     },
     "execution_count": 9,
     "metadata": {},
     "output_type": "execute_result"
    },
    {
     "data": {
      "image/png": "[encoded data removed]",
      "text/plain": [
       "<Figure size 432x288 with 1 Axes>"
      ]
     },
     "metadata": {
      "needs_background": "light"
     },
     "output_type": "display_data"
    }
   ],
   "source": [
    "df.hist(column='ema20-', bins=50)"
   ]
  },
  {
   "cell_type": "code",
   "execution_count": 10,
   "metadata": {},
   "outputs": [
    {
     "data": {
      "text/plain": [
       "<matplotlib.collections.PathCollection at 0x18e0043ed60>"
      ]
     },
     "execution_count": 10,
     "metadata": {},
     "output_type": "execute_result"
    },
    {
     "data": {
      "image/png": "[encoded data removed]",
      "text/plain": [
       "<Figure size 432x288 with 1 Axes>"
      ]
     },
     "metadata": {
      "needs_background": "light"
     },
     "output_type": "display_data"
    }
   ],
   "source": [
    "plt.scatter(df['return'], df['alvo'].shift(1))"
   ]
  },
  {
   "cell_type": "code",
   "execution_count": null,
   "metadata": {},
   "outputs": [],
   "source": [
    "\n",
    "# salvar modelo\n",
    "import pickle\n",
    " \n",
    "# salvar o modelo no arquivo modelo + symbol + Timeframe + .pkl\n",
    "with open('logistic_regression_forex.pkl', 'wb') as file:\n",
    "    pickle.dump(modelo, file)"
   ]
  }
 ],
 "metadata": {
  "kernelspec": {
   "display_name": "Python 3",
   "language": "python",
   "name": "python3"
  },
  "language_info": {
   "codemirror_mode": {
    "name": "ipython",
    "version": 3
   },
   "file_extension": ".py",
   "mimetype": "text/x-python",
   "name": "python",
   "nbconvert_exporter": "python",
   "pygments_lexer": "ipython3",
   "version": "3.8.1"
  }
 },
 "nbformat": 4,
 "nbformat_minor": 4
}
