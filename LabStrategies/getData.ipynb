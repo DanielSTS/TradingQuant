{
 "cells": [
  {
   "cell_type": "code",
   "execution_count": 1,
   "metadata": {},
   "outputs": [
    {
     "data": {
      "text/plain": [
       "True"
      ]
     },
     "execution_count": 1,
     "metadata": {},
     "output_type": "execute_result"
    }
   ],
   "source": [
    "from datetime import datetime\n",
    "import MetaTrader5 as mt5\n",
    "import pandas as pd\n",
    "\n",
    "\n",
    "# estabelecemos a conexão ao MetaTrader 5\n",
    "if not mt5.initialize():\n",
    "    print(\"initialize() failed, error code =\", mt5.last_error())\n",
    "    quit()\n",
    "    \n",
    "    \n",
    "symbols = ['EURUSD', 'GBPUSD', 'USDJPY', 'USDCHF', 'AUDUSD', 'NZDUSD', 'USDCAD', 'AUDCAD', 'AUDCHF', 'AUDJPY',\n",
    "           'AUDNZD', 'CADCHF', 'CADJPY', 'CHFJPY', 'EURAUD', 'EURCAD', 'EURCHF', 'EURGBP', 'EURJPY', 'EURNZD',\n",
    "           'GBPAUD', 'GBPCAD', 'GBPCHF', 'GBPJPY', 'GBPNZD', 'NZDJPY']\n",
    "micro = True\n",
    "\n",
    "if micro:\n",
    "    for i in range(len(symbols)):\n",
    "        symbols[i] += \"micro\"\n",
    "\n",
    "\n",
    "for i in symbols:\n",
    "    \n",
    "    utc_from = datetime(2013, 1, 1)\n",
    "    utc_to = datetime(2020, 12, 31)\n",
    "    # obtemos as barras no intervalo 2013-2019\n",
    "    rates = mt5.copy_rates_range(i, mt5.TIMEFRAME_D1, utc_from, utc_to)\n",
    "    # a partir dos dados recebidos criamos o DataFrame\n",
    "    rates_frame = pd.DataFrame(rates)\n",
    "    # convertemos o tempo em segundos no formato datetime\n",
    "    rates_frame['time'] = pd.to_datetime(rates_frame['time'], unit='s')\n",
    "    #renomeando colunas\n",
    "    rates_frame.rename(columns={\"time\": \"Date\",\"open\": \"Open\", \"high\": \"High\",\"low\": \"Low\", \"close\": \"Close\" },inplace=True)\n",
    "    variaveis = [\"Date\",\"Open\",\"High\",\"Low\",\"Close\"]\n",
    "    # armazenamos em um arquivo .csv\n",
    "    rates_frame[variaveis].to_csv(\"data/\" + str(i)+ \"D1\"+\".csv\", header=True)\n",
    "\n",
    "# concluímos a conexão ao terminal MetaTrader 5\n",
    "mt5.shutdown()"
   ]
  },
  {
   "cell_type": "code",
   "execution_count": null,
   "metadata": {},
   "outputs": [],
   "source": []
  }
 ],
 "metadata": {
  "kernelspec": {
   "display_name": "Python 3",
   "language": "python",
   "name": "python3"
  },
  "language_info": {
   "codemirror_mode": {
    "name": "ipython",
    "version": 3
   },
   "file_extension": ".py",
   "mimetype": "text/x-python",
   "name": "python",
   "nbconvert_exporter": "python",
   "pygments_lexer": "ipython3",
   "version": "3.8.1"
  }
 },
 "nbformat": 4,
 "nbformat_minor": 4
}
